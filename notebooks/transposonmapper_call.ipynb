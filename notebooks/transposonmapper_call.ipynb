{
 "cells": [
  {
   "cell_type": "code",
   "execution_count": 1,
   "metadata": {},
   "outputs": [],
   "source": [
    "import os, sys\n",
    "import numpy as np\n",
    "import pandas as pd "
   ]
  },
  {
   "cell_type": "code",
   "execution_count": 2,
   "metadata": {},
   "outputs": [],
   "source": [
    "dirname = os.path.dirname(os.path.abspath('__file__'))\n",
    "# importing needed functions \n",
    "sys.path.insert(1,os.path.join(dirname,'..'))\n",
    "\n",
    "# importing the transposon mapping function\n",
    "\n",
    "from transposonmapper.transposonmapping_satay  import transposonmapper"
   ]
  },
  {
   "cell_type": "code",
   "execution_count": 3,
   "metadata": {},
   "outputs": [
    {
     "name": "stdout",
     "output_type": "stream",
     "text": [
      "Getting coordinates of all genes ...\n",
      "Getting reads for chromosome ref|NC_001133| ...\n",
      "Chromosome <pysam.libcalignmentfile.IteratorRowRegion object at 0x7f1885b6add0> completed in 0.006 seconds\n",
      "\n",
      "Getting reads for chromosome ref|NC_001134| ...\n",
      "Chromosome <pysam.libcalignmentfile.IteratorRowRegion object at 0x7f1885b6af90> completed in 0.005 seconds\n",
      "\n",
      "Getting reads for chromosome ref|NC_001135| ...\n",
      "Chromosome <pysam.libcalignmentfile.IteratorRowRegion object at 0x7f1885b6a350> completed in 0.002 seconds\n",
      "\n",
      "Getting reads for chromosome ref|NC_001136| ...\n",
      "Chromosome <pysam.libcalignmentfile.IteratorRowRegion object at 0x7f1885b6a2e0> completed in 0.009 seconds\n",
      "\n",
      "Getting reads for chromosome ref|NC_001137| ...\n",
      "Chromosome <pysam.libcalignmentfile.IteratorRowRegion object at 0x7f1885b6a190> completed in 0.001 seconds\n",
      "\n",
      "Getting reads for chromosome ref|NC_001138| ...\n",
      "Chromosome <pysam.libcalignmentfile.IteratorRowRegion object at 0x7f1885b6a120> completed in 0.004 seconds\n",
      "\n",
      "Getting reads for chromosome ref|NC_001139| ...\n",
      "Chromosome <pysam.libcalignmentfile.IteratorRowRegion object at 0x7f1885b6a040> completed in 0.007 seconds\n",
      "\n",
      "Getting reads for chromosome ref|NC_001140| ...\n",
      "Chromosome <pysam.libcalignmentfile.IteratorRowRegion object at 0x7f1885b6a200> completed in 0.006 seconds\n",
      "\n",
      "Getting reads for chromosome ref|NC_001141| ...\n",
      "Chromosome <pysam.libcalignmentfile.IteratorRowRegion object at 0x7f1885b5cdd0> completed in 0.009 seconds\n",
      "\n",
      "Getting reads for chromosome ref|NC_001142| ...\n",
      "Chromosome <pysam.libcalignmentfile.IteratorRowRegion object at 0x7f1885b5cf90> completed in 0.007 seconds\n",
      "\n",
      "Getting reads for chromosome ref|NC_001143| ...\n",
      "Chromosome <pysam.libcalignmentfile.IteratorRowRegion object at 0x7f18c32f7cf0> completed in 0.003 seconds\n",
      "\n",
      "Getting reads for chromosome ref|NC_001144| ...\n",
      "Chromosome <pysam.libcalignmentfile.IteratorRowRegion object at 0x7f18c32f7f20> completed in 0.006 seconds\n",
      "\n",
      "Getting reads for chromosome ref|NC_001145| ...\n",
      "Chromosome <pysam.libcalignmentfile.IteratorRowRegion object at 0x7f1885b5c900> completed in 0.003 seconds\n",
      "\n",
      "Getting reads for chromosome ref|NC_001146| ...\n",
      "Chromosome <pysam.libcalignmentfile.IteratorRowRegion object at 0x7f1885b5cf20> completed in 0.006 seconds\n",
      "\n",
      "Getting reads for chromosome ref|NC_001147| ...\n",
      "Chromosome <pysam.libcalignmentfile.IteratorRowRegion object at 0x7f1885ab1f90> completed in 0.003 seconds\n",
      "\n",
      "Getting reads for chromosome ref|NC_001148| ...\n",
      "Chromosome <pysam.libcalignmentfile.IteratorRowRegion object at 0x7f1885ab1f20> completed in 0.002 seconds\n",
      "\n",
      "Getting reads for chromosome ref|NC_001224| ...\n",
      "Chromosome <pysam.libcalignmentfile.IteratorRowRegion object at 0x7f1885ab1eb0> completed in 0.021 seconds\n",
      "\n",
      "Get number of insertions and reads per gene ...\n",
      "Writing bed file at:  ../transposonmapper/data_files/files4test/SRR062634.filt_trimmed.sorted.bam.bed\n",
      "\n",
      "Writing pergene.txt file at:  ../transposonmapper/data_files/files4test/SRR062634.filt_trimmed.sorted.bam_pergene.txt\n",
      "\n",
      "Writing peressential.txt file at:  ../transposonmapper/data_files/files4test/SRR062634.filt_trimmed.sorted.bam_peressential.txt\n",
      "\n",
      "Witing pergene_insertions.txt file at:  ../transposonmapper/data_files/files4test/SRR062634.filt_trimmed.sorted.bam_pergene_insertions.txt\n",
      "\n",
      "Writing peressential_insertions.txt file at:  ../transposonmapper/data_files/files4test/SRR062634.filt_trimmed.sorted.bam_peressential_insertions.txt\n",
      "\n",
      "Writing wig file at:  ../transposonmapper/data_files/files4test/SRR062634.filt_trimmed.sorted.bam.wig\n",
      "\n"
     ]
    }
   ],
   "source": [
    "bamfile= '../transposonmapper/data_files/files4test/SRR062634.filt_trimmed.sorted.bam'\n",
    "filename='SRR062634.filt_trimmed.sorted.bam'\n",
    "assert os.path.isfile(bamfile), \"Not a file or directoy\"\n",
    "\n",
    "transposonmapper(bamfile=bamfile) "
   ]
  },
  {
   "cell_type": "code",
   "execution_count": 5,
   "metadata": {},
   "outputs": [
    {
     "name": "stdout",
     "output_type": "stream",
     "text": [
      "Help on function load_default_files in module transposonmapper.importing.load_default_files:\n",
      "\n",
      "load_default_files(gff_file, essentials_file, gene_names_file)\n",
      "    This function loads some files that have a recurrent use throughout the pipeline.\n",
      "        It will look inside the satay/data_files folder for the files if the input is None. \n",
      "        Otherwise it will return the same input file.  \n",
      "        \n",
      "        Usage:\n",
      "        ------\n",
      "        file1, file2, file3=load_default_files(gff_file=file1,\n",
      "                                                essentials_file=file2,\n",
      "                                                gene_names_file=file3)\n",
      "        if you dont provide a specific file as an input , then it will look into the default folder\n",
      "        satay/data_files/ and it will give the standard file provided in the package.\n",
      "    \n",
      "        file1, file2, file3=load_default_files(gff_file=None,\n",
      "                                                essentials_file=None,\n",
      "                                                gene_names_file=None)\n",
      "    \n",
      "        Parameters\n",
      "        ----------\n",
      "        gff_file : [.gff3]\n",
      "            [description] --> Annotated genome from Saccharomyces cerevisiae (baker's yeast) \n",
      "            (https://ftp.ncbi.nlm.nih.gov/genomes/all/GCF/000/146/045/GCF_000146045.2_R64/GCF_000146045.2_R64_genomic.gff.gz)\n",
      "        essentials_file : [.txt]\n",
      "            [description] -->  Essentials genes annotated from yeast , written using the systematic name standard , \n",
      "            all in one column\n",
      "        gene_names_file : [.txt]\n",
      "            [description] --> This documents lists all the Saccharomyces cerevisiae S288c entries present in\n",
      "    this release of UniProtKB/Swiss-Prot. \n",
      "                Yeast (Saccharomyces cerevisiae): entries, gene names and cross-references to SGD. \n",
      "                 Release:     2021_01 of 10-Feb-2021\n",
      "    \n",
      "        Returns\n",
      "        -------\n",
      "        gff_file : [.gff3]--> Annotated genome from Saccharomyces cerevisiae (baker's yeast) \n",
      "            (https://ftp.ncbi.nlm.nih.gov/genomes/all/GCF/000/146/045/GCF_000146045.2_R64/GCF_000146045.2_R64_genomic.gff.gz)\n",
      "        essentials_file : [.txt]-->  Essentials genes annotated from yeast , written using the systematic name standard , \n",
      "            all in one column\n",
      "        gene_names_file : [.txt]--> This documents lists all the Saccharomyces cerevisiae S288c entries present in\n",
      "    this release of UniProtKB/Swiss-Prot. Yeast (Saccharomyces cerevisiae): entries, gene names and cross-references to SGD. \n",
      "                 Release:     2021_01 of 10-Feb-2021\n",
      "\n"
     ]
    }
   ],
   "source": [
    "from transposonmapper.importing.load_default_files import load_default_files\n",
    "\n",
    "help(load_default_files)"
   ]
  },
  {
   "cell_type": "code",
   "execution_count": null,
   "metadata": {},
   "outputs": [],
   "source": []
  }
 ],
 "metadata": {
  "interpreter": {
   "hash": "2730163c4b7859d47c676f1a1fe8f6449d0f2539972cd0f9489fa74976c27e38"
  },
  "kernelspec": {
   "display_name": "Python 3.8.10 64-bit ('satay-dev': conda)",
   "name": "python3"
  },
  "language_info": {
   "codemirror_mode": {
    "name": "ipython",
    "version": 3
   },
   "file_extension": ".py",
   "mimetype": "text/x-python",
   "name": "python",
   "nbconvert_exporter": "python",
   "pygments_lexer": "ipython3",
   "version": "3.8.10"
  },
  "orig_nbformat": 4
 },
 "nbformat": 4,
 "nbformat_minor": 2
}