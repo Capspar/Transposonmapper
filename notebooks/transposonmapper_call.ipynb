{
 "cells": [
  {
   "cell_type": "code",
   "execution_count": 1,
   "metadata": {},
   "outputs": [],
   "source": [
    "import os, sys\n",
    "import numpy as np\n",
    "import pandas as pd "
   ]
  },
  {
   "cell_type": "code",
   "execution_count": 2,
   "metadata": {},
   "outputs": [],
   "source": [
    "dirname = os.path.dirname(os.path.abspath('__file__'))\n",
    "# importing needed functions \n",
    "sys.path.insert(1,os.path.join(dirname,'..'))\n",
    "\n",
    "# importing the transposon mapping function\n",
    "\n",
    "from transposonmapper.transposonmapping_satay  import transposonmapper"
   ]
  },
  {
   "cell_type": "code",
   "execution_count": 3,
   "metadata": {},
   "outputs": [
    {
     "name": "stdout",
     "output_type": "stream",
     "text": [
      "Getting coordinates of all genes ...\n",
      "Getting reads for chromosome ref|NC_001133| ...\n",
      "Chromosome <pysam.libcalignmentfile.IteratorRowRegion object at 0x7f86cbcc80b0> completed in 0.003 seconds\n",
      "\n",
      "Getting reads for chromosome ref|NC_001134| ...\n",
      "Chromosome <pysam.libcalignmentfile.IteratorRowRegion object at 0x7f870947d5f0> completed in 0.013 seconds\n",
      "\n",
      "Getting reads for chromosome ref|NC_001135| ...\n",
      "Chromosome <pysam.libcalignmentfile.IteratorRowRegion object at 0x7f86cbc94ac0> completed in 0.001 seconds\n",
      "\n",
      "Getting reads for chromosome ref|NC_001136| ...\n",
      "Chromosome <pysam.libcalignmentfile.IteratorRowRegion object at 0x7f86cbc94200> completed in 0.005 seconds\n",
      "\n",
      "Getting reads for chromosome ref|NC_001137| ...\n",
      "Chromosome <pysam.libcalignmentfile.IteratorRowRegion object at 0x7f86cbc94dd0> completed in 0.002 seconds\n",
      "\n",
      "Getting reads for chromosome ref|NC_001138| ...\n",
      "Chromosome <pysam.libcalignmentfile.IteratorRowRegion object at 0x7f86cbc94190> completed in 0.004 seconds\n",
      "\n",
      "Getting reads for chromosome ref|NC_001139| ...\n",
      "Chromosome <pysam.libcalignmentfile.IteratorRowRegion object at 0x7f86cbc94040> completed in 0.080 seconds\n",
      "\n",
      "Getting reads for chromosome ref|NC_001140| ...\n",
      "Chromosome <pysam.libcalignmentfile.IteratorRowRegion object at 0x7f86cbc94120> completed in 0.003 seconds\n",
      "\n",
      "Getting reads for chromosome ref|NC_001141| ...\n",
      "Chromosome <pysam.libcalignmentfile.IteratorRowRegion object at 0x7f86cbc942e0> completed in 0.001 seconds\n",
      "\n",
      "Getting reads for chromosome ref|NC_001142| ...\n",
      "Chromosome <pysam.libcalignmentfile.IteratorRowRegion object at 0x7f86cbc85900> completed in 0.003 seconds\n",
      "\n",
      "Getting reads for chromosome ref|NC_001143| ...\n",
      "Chromosome <pysam.libcalignmentfile.IteratorRowRegion object at 0x7f86cbc85f20> completed in 0.002 seconds\n",
      "\n",
      "Getting reads for chromosome ref|NC_001144| ...\n",
      "Chromosome <pysam.libcalignmentfile.IteratorRowRegion object at 0x7f86cbc85dd0> completed in 0.006 seconds\n",
      "\n",
      "Getting reads for chromosome ref|NC_001145| ...\n",
      "Chromosome <pysam.libcalignmentfile.IteratorRowRegion object at 0x7f86cbc85f90> completed in 0.003 seconds\n",
      "\n",
      "Getting reads for chromosome ref|NC_001146| ...\n",
      "Chromosome <pysam.libcalignmentfile.IteratorRowRegion object at 0x7f870941ecf0> completed in 0.011 seconds\n",
      "\n",
      "Getting reads for chromosome ref|NC_001147| ...\n",
      "Chromosome <pysam.libcalignmentfile.IteratorRowRegion object at 0x7f870941ef20> completed in 0.014 seconds\n",
      "\n",
      "Getting reads for chromosome ref|NC_001148| ...\n",
      "Chromosome <pysam.libcalignmentfile.IteratorRowRegion object at 0x7f86cbbd7dd0> completed in 0.003 seconds\n",
      "\n",
      "Getting reads for chromosome ref|NC_001224| ...\n",
      "Chromosome <pysam.libcalignmentfile.IteratorRowRegion object at 0x7f86cbbd7f90> completed in 0.011 seconds\n",
      "\n",
      "Get number of insertions and reads per gene ...\n",
      "Writing bed file at:  ../transposonmapper/data_files/files4test/SRR062634.filt_trimmed.sorted.bam.bed\n",
      "\n",
      "Writing pergene.txt file at:  ../transposonmapper/data_files/files4test/SRR062634.filt_trimmed.sorted.bam_pergene.txt\n",
      "\n",
      "Writing peressential.txt file at:  ../transposonmapper/data_files/files4test/SRR062634.filt_trimmed.sorted.bam_peressential.txt\n",
      "\n",
      "Witing pergene_insertions.txt file at:  ../transposonmapper/data_files/files4test/SRR062634.filt_trimmed.sorted.bam_pergene_insertions.txt\n",
      "\n",
      "Writing peressential_insertions.txt file at:  ../transposonmapper/data_files/files4test/SRR062634.filt_trimmed.sorted.bam_peressential_insertions.txt\n",
      "\n",
      "Writing wig file at:  ../transposonmapper/data_files/files4test/SRR062634.filt_trimmed.sorted.bam.wig\n",
      "\n"
     ]
    }
   ],
   "source": [
    "bamfile= '../transposonmapper/data_files/files4test/SRR062634.filt_trimmed.sorted.bam'\n",
    "filename='SRR062634.filt_trimmed.sorted.bam'\n",
    "assert os.path.isfile(bamfile), \"Not a file or directoy\"\n",
    "\n",
    "transposonmapper(bamfile=bamfile) "
   ]
  },
  {
   "cell_type": "code",
   "execution_count": null,
   "metadata": {},
   "outputs": [],
   "source": []
  }
 ],
 "metadata": {
  "interpreter": {
   "hash": "2730163c4b7859d47c676f1a1fe8f6449d0f2539972cd0f9489fa74976c27e38"
  },
  "kernelspec": {
   "display_name": "Python 3.8.10 64-bit ('satay-dev': conda)",
   "name": "python3"
  },
  "language_info": {
   "codemirror_mode": {
    "name": "ipython",
    "version": 3
   },
   "file_extension": ".py",
   "mimetype": "text/x-python",
   "name": "python",
   "nbconvert_exporter": "python",
   "pygments_lexer": "ipython3",
   "version": "3.8.10"
  },
  "orig_nbformat": 4
 },
 "nbformat": 4,
 "nbformat_minor": 2
}