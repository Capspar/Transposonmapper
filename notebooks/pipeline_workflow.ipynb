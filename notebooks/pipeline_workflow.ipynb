{
 "metadata": {
  "language_info": {
   "codemirror_mode": {
    "name": "ipython",
    "version": 3
   },
   "file_extension": ".py",
   "mimetype": "text/x-python",
   "name": "python",
   "nbconvert_exporter": "python",
   "pygments_lexer": "ipython3",
   "version": "3.7.6"
  },
  "orig_nbformat": 2,
  "kernelspec": {
   "name": "python376jvsc74a57bd0b2b6faf28e54db84b8bab82dacb459349e5fe486b652702d3c0dc9e6aff947a2",
   "display_name": "Python 3.7.6 64-bit ('base': conda)"
  }
 },
 "nbformat": 4,
 "nbformat_minor": 2,
 "cells": [
  {
   "source": [
    "### clean_bedwigfiles.py (to clean the bed and wig files).\n",
    "\n",
    "### transposonread_profileplot_genome.py (to check the insertion and read distribution throughout the genome).\n",
    "\n",
    "### transposonread_profileplot.py (to check the insertions and read distribution per chromosome in more detail).\n",
    "\n",
    "### scatterplot_genes.py (to check the distribution for the number of insertions per gene and per essential gene).\n",
    "\n",
    "### volcanoplot.py (only when comparing multiple datasets with different genetic backgrounds to see which genes have a significant change in insertion and read counts)."
   ],
   "cell_type": "markdown",
   "metadata": {}
  },
  {
   "cell_type": "code",
   "execution_count": null,
   "metadata": {},
   "outputs": [],
   "source": []
  }
 ]
}